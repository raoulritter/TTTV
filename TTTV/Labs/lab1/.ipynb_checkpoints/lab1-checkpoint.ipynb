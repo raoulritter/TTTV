{
 "cells": [
  {
   "cell_type": "markdown",
   "metadata": {},
   "source": [
    "# Taaltheorie en Taalverwerking - 2021 · Section 1"
   ]
  },
  {
   "cell_type": "markdown",
   "metadata": {},
   "source": [
    "\n",
    "The objective of this exercise is to implement a system that will allow us to execute and analyse any arbitrary finite state machine (FSM) specified in Python. Recall that an FSM is a tuple $\\langle\\Sigma,Q,q_0,F,\\delta\\rangle$, where $\\Sigma$ is the alphabet, $Q$ is the set of states, $q_0$ is the initial state, and $F$ is the set of final states. We use a provided Python class to represent both states in $Q$ and symbols in the alphabet $\\Sigma$, and we use Python strings to represent tokens/symbols. \n"
   ]
  },
  {
   "cell_type": "code",
   "execution_count": null,
   "metadata": {
    "collapsed": true
   },
   "outputs": [],
   "source": [
    "# FILL THIS IN FOR YOUR GROUP, also name your file as: tttv-w14-<group>-<name1>-<name2>.ipynb\n",
    "# Group        : H, 41 Eva Heemskerk\n",
    "# Name - UvaID : Raoul Ritter 12596019\n",
    "# Name - UvaID : Lieve Eberson\n",
    "# Date         : 7-3-2021"
   ]
  },
  {
   "cell_type": "code",
   "execution_count": 2,
   "metadata": {},
   "outputs": [],
   "source": [
    "import copy\n",
    "\n",
    "class FSM:\n",
    "\n",
    "    def __init__(self):\n",
    "        \"\"\"Contructor of the FSM.\"\"\"\n",
    "        self._initial_state = None\n",
    "        self._transitions = {}\n",
    "        self._end_states = set()\n",
    "\n",
    "    def get_transitions(self):\n",
    "        \"\"\"Returns a deep copy of the transitions of the current FSM.\"\"\"\n",
    "        return copy.deepcopy(self._transitions)\n",
    "\n",
    "    def add_transition(self, from_state, token, to_state):\n",
    "        \"\"\"\n",
    "        Add a transition to the FSM.\n",
    "        Args:\n",
    "            from_state: String representing of a state.\n",
    "            token: A letter or word, depending on the context.\n",
    "            to_state: String representation of a state.\n",
    "\n",
    "        Returns:\n",
    "            True/False depending on whether the transition could be added.\n",
    "        \"\"\"\n",
    "        from_state = from_state.upper()\n",
    "        to_state = to_state.upper()\n",
    "        if token == \"\" and from_state == to_state:\n",
    "            print((from_state, token, to_state))\n",
    "            print(\"This would generate an infinite loop, transition has not been added.\")\n",
    "            return False\n",
    "        # Create an empty set for new keys.\n",
    "        if from_state not in self._transitions:\n",
    "            self._transitions[from_state] = set()\n",
    "        self._transitions[from_state].add((token, to_state))\n",
    "        return True\n",
    "\n",
    "    def remove_transition(self, from_state, token, to_state):\n",
    "        \"\"\"\n",
    "        Args:\n",
    "            from_state: String representing of a state.\n",
    "            token: A letter or word, depending on the context.\n",
    "            to_state: String representation of a state.\n",
    "\n",
    "        Returns:\n",
    "            True/False depending on whether the transition could be removed.\n",
    "        \"\"\"\n",
    "        from_state = from_state.upper()\n",
    "        to_state = to_state.upper()\n",
    "        # Check if the transition exists\n",
    "        if from_state in self._transitions:\n",
    "            if (token, to_state) in self._transitions[from_state]:\n",
    "                self._transitions[from_state].remove((token, to_state))\n",
    "                print(\"Transition ({}, {}, {}) succesfully removed\".format(from_state, token, to_state))\n",
    "                return True\n",
    "        print(\"Transition ({}, {}, {}) could not be found.\".format(from_state, token, to_state))\n",
    "        return False\n",
    "\n",
    "\n",
    "    def get_initial_state(self):\n",
    "        \"\"\"Returns a deep copy of the transitions of the current FSM.\"\"\"\n",
    "        return copy.deepcopy(self._initial_state)\n",
    "\n",
    "    def set_initial_state(self, state):\n",
    "        \"\"\"Sets the initial state of the FSM.\"\"\"\n",
    "        self._initial_state = state.upper()\n",
    "\n",
    "    def get_end_states(self):\n",
    "        \"\"\"Returns a deep copy of the end states of the current FSM.\"\"\"\n",
    "        return copy.deepcopy(self._end_states)\n",
    "\n",
    "    def add_end_state(self, state):\n",
    "        \"\"\"Add an end state to the FSM.\"\"\"\n",
    "        self._end_states.add(state.upper())\n",
    "\n",
    "    def remove_end_state(self, state):\n",
    "        \"\"\"Remove an end state from the FSM if it exists.\"\"\"\n",
    "        if state.upper() in self._end_states:\n",
    "            self._end_states.remove(state.upper())\n",
    "            print(\"State {} succesfully removed as end state\".format(state))\n",
    "            return True\n",
    "        else:\n",
    "            print(\"State {}, is not one of the end states, and can not be removed.\".format(state))\n",
    "            return False\n",
    "\n",
    "    def print_details(self):\n",
    "        \"\"\"Prints all the details of the current FSM.\"\"\"\n",
    "        print(\"FSM details:\")\n",
    "        print(\"- Initial state:\")\n",
    "        print(\"  - {}\".format(self._initial_state))\n",
    "        print(\"- End states:\")\n",
    "        end_states = list(self._end_states)\n",
    "        end_states.sort()\n",
    "        for state in end_states:\n",
    "            print(\"  - {}\".format(state))\n",
    "        print(\"- Transitions: \")\n",
    "        for state in self._transitions:\n",
    "            print(\"  - {}\".format(state))\n"
   ]
  },
  {
   "cell_type": "markdown",
   "metadata": {},
   "source": [
    "![First FSM should be here, else add the image in the root of your jupyter notebook](fsm1.png)"
   ]
  },
  {
   "cell_type": "markdown",
   "metadata": {},
   "source": [
    "We represent the transition function~$\\delta$ as a Python dictionary in which for each start node, the transition tokens and the end nodes are stored. The following example shows some basic operations for adding and reading transitions.\n",
    "You can do this yourself by using the **add\\_transition(state1, token, state2)** function of the FSM object: "
   ]
  },
  {
   "cell_type": "code",
   "execution_count": 3,
   "metadata": {},
   "outputs": [
    {
     "name": "stdout",
     "output_type": "stream",
     "text": [
      "FSM details:\n",
      "- Initial state:\n",
      "  - None\n",
      "- End states:\n",
      "- Transitions: \n",
      "  - Q0\n",
      "  - Q1\n"
     ]
    }
   ],
   "source": [
    "fsm1 = FSM()\n",
    "fsm1.add_transition('q0','a','q1')\n",
    "fsm1.add_transition('q0','b','q1')\n",
    "fsm1.add_transition('q1','b','q2')\n",
    "fsm1.add_transition('q1','','q2')\n",
    "fsm1.add_transition('q1','a','q2')\n",
    "fsm1.print_details()"
   ]
  },
  {
   "cell_type": "markdown",
   "metadata": {},
   "source": [
    "We furthermore use the function **fsm.set\\_initial\\_state()** to indicate the name of the initial state, and the predicate **fsm.add\\_end\\_state()** to specify any number of final states (in our example there happens to be just a single final state). For our example, this looks as follows:\n"
   ]
  },
  {
   "cell_type": "code",
   "execution_count": 3,
   "metadata": {},
   "outputs": [
    {
     "name": "stdout",
     "output_type": "stream",
     "text": [
      "FSM details:\n",
      "- Initial state:\n",
      "  - Q0\n",
      "- End states:\n",
      "  - Q2\n",
      "- Transitions: \n",
      "  - Q0\n",
      "  - Q1\n"
     ]
    }
   ],
   "source": [
    "fsm1.set_initial_state('q0')\n",
    "fsm1.add_end_state('q2')\n",
    "fsm1.print_details()"
   ]
  },
  {
   "cell_type": "markdown",
   "metadata": {},
   "source": [
    "Inside the FSM class/object the variables such as **self.\\_initial\\_state** are accessed directly, if you want to access these from outside the object, you should use the **get** functions:\n"
   ]
  },
  {
   "cell_type": "code",
   "execution_count": 4,
   "metadata": {},
   "outputs": [
    {
     "name": "stdout",
     "output_type": "stream",
     "text": [
      "- Initial state:\n",
      "  - Q0\n",
      "- End states:\n",
      "  - Q2\n",
      "- Transitions:\n",
      "  - Q0 -> a -> Q1\n",
      "  - Q0 -> b -> Q1\n",
      "  - Q1 -> b -> Q2\n",
      "  - Q1 ->  -> Q2\n",
      "  - Q1 -> a -> Q2\n"
     ]
    }
   ],
   "source": [
    "# Accessing the internal variables of the FSM object correctly, from the outside\n",
    "print(\"- Initial state:\")\n",
    "print(\"  - {}\".format(fsm1.get_initial_state()))\n",
    "# End states are stored as a set(), resulting in only unique values.\n",
    "print(\"- End states:\")\n",
    "end_states = list(fsm1.get_end_states())\n",
    "for state in end_states:\n",
    "  print(\"  - {}\".format(state))\n",
    "# transitions = dictionary of tuples\n",
    "print(\"- Transitions:\")\n",
    "transitions = fsm1.get_transitions()\n",
    "for state in transitions:\n",
    "  for (token, end_state) in transitions[state]:\n",
    "    print(\"  - {} -> {} -> {}\".format(state, token, end_state))\n"
   ]
  },
  {
   "cell_type": "markdown",
   "metadata": {},
   "source": [
    "Now answer the following questions:\n",
    "\n",
    "### Question 1 (2 pts)\n",
    "\n",
    "In class you have learned to always specify the alphabet~$\\Sigma$ and the set of states~$Q$ when defining an FSM. This is important for clarity, but of course this information in principle can also be extracted from the specification of $\\delta$ (only states and symbols not involved in any transition cannot be recovered this way).\n",
    "\n",
    "Write a function **states(fsm)** to obtain the list of all states used anywhere in the provided FSM object (i.e., all states showing that you have provided via: **fsm.set\\_initial()**, **fsm.add\\_end\\_state()**, and **fsm.add\\_transition()**). Your list should be sorted alphabetically and not contain any duplicates. Example:\n",
    "\n",
    "\n"
   ]
  },
  {
   "cell_type": "code",
   "execution_count": 4,
   "metadata": {},
   "outputs": [
    {
     "data": {
      "text/plain": [
       "[]"
      ]
     },
     "execution_count": 4,
     "metadata": {},
     "output_type": "execute_result"
    }
   ],
   "source": [
    "def states(fsm):\n",
    "    \n",
    "    output_list = []\n",
    "    return output_list\n",
    "\n",
    "# Output for fsm1 should be ['q0', 'q1', 'q2']\n",
    "states(fsm1)"
   ]
  },
  {
   "cell_type": "markdown",
   "metadata": {},
   "source": [
    "Now write a function **alphabet(fsm)** to recover all the alphabet symbols used anywhere in the current FSM specification. Again, the list returned should be sorted and free of duplicates. Example:\n"
   ]
  },
  {
   "cell_type": "code",
   "execution_count": null,
   "metadata": {},
   "outputs": [],
   "source": [
    "def alphabet(fsm):\n",
    "    output_list = []\n",
    "    return output_list\n",
    "\n",
    "# Output for fsm1 should be ['a', 'b']\n",
    "alphabet(fsm1)"
   ]
  },
  {
   "cell_type": "markdown",
   "metadata": {},
   "source": [
    "### Question 2 (4 pts)\n",
    "\n",
    "Implement a function **accept(fsm, string)** to check whether a given string, is accepted by the given FSM.\n",
    "\n",
    "__Hints:__ A breadth-first algorithm, can work via a queue (just look it up), python has a queue class, called *deque*, from *from collections import deque*. On another note, you can also try recursion in python.\n",
    "Also make sure you don't forget about the $\\epsilon$-transitions!\n"
   ]
  },
  {
   "cell_type": "code",
   "execution_count": null,
   "metadata": {},
   "outputs": [],
   "source": [
    "def accept(fsm, query_string):\n",
    "    return False\n",
    "print(accept(fsm1, \"b\"))   # True\n",
    "print(accept(fsm1, \"aab\")) # False"
   ]
  },
  {
   "cell_type": "markdown",
   "metadata": {},
   "source": [
    "Unlike Prolog, python does not have enforced backtracking (repeatedly pressing the semicolon key) to generate all strings accepted by the current FSM currently in memory, but for **fsm1** we know that only the following strings should be accepted:\n"
   ]
  },
  {
   "cell_type": "code",
   "execution_count": null,
   "metadata": {},
   "outputs": [],
   "source": [
    "print(accept(fsm1, \"ab\"))\n",
    "print(accept(fsm1, \"aa\"))\n",
    "print(accept(fsm1, \"a\"))\n",
    "print(accept(fsm1, \"bb\"))\n",
    "print(accept(fsm1, \"ba\"))\n",
    "print(accept(fsm1, \"b\"))"
   ]
  },
  {
   "cell_type": "markdown",
   "metadata": {},
   "source": [
    "### Question 3 (3 pts)\n",
    "\n",
    "Now create a new FSM object, called **fsm2** and write up a specification of the following FSM:\n"
   ]
  },
  {
   "cell_type": "markdown",
   "metadata": {},
   "source": [
    "![Second FSM should be here, else add the image in the root of your jupyter notebook](fsm2.png)"
   ]
  },
  {
   "cell_type": "code",
   "execution_count": null,
   "metadata": {},
   "outputs": [],
   "source": [
    "fsm2 = FSM()"
   ]
  },
  {
   "cell_type": "markdown",
   "metadata": {},
   "source": [
    "If you have done everything right, then you should be able to verify, for instance, that <u>xyxx</u> is a string that is accepted by this FSM:\n"
   ]
  },
  {
   "cell_type": "code",
   "execution_count": null,
   "metadata": {},
   "outputs": [],
   "source": [
    "print(accept(fsm2, \"xyxx\")) # True"
   ]
  },
  {
   "cell_type": "markdown",
   "metadata": {},
   "source": [
    "Observe that this new FSM accepts an *infinite* number of strings. In which order it will enumerate them depends on the exact order in which you specify your transitions.\n",
    "As this FSM can generate an infinite number of strings, we can not just test a small list to see if it works correctly. If we want to make sure not to miss any accepted strings, we could try to search the space of all accepted strings in the order of their length.\n",
    "\n",
    "To this end, implement a function **list_accepted(fsm, length)** to collect the list of all strings of a given length accepted by the given FSM. This list should be sorted and not contain any duplicates. Example:\n"
   ]
  },
  {
   "cell_type": "code",
   "execution_count": null,
   "metadata": {},
   "outputs": [],
   "source": [
    "def list_accepted(fsm, length):\n",
    "    output_list = []\n",
    "    return output_list\n",
    "print(list_accepted(fsm2, 4)) # [\"xxxx\", \"xxyx\", \"xyxx\"]"
   ]
  },
  {
   "cell_type": "markdown",
   "metadata": {},
   "source": [
    "How many distinct strings of length 10 are accepted by our (new) FSM? How many of length 20? Document how you have obtained the answers to these questions.\n",
    "<h4>Answers:</h4>"
   ]
  },
  {
   "cell_type": "code",
   "execution_count": null,
   "metadata": {
    "collapsed": true
   },
   "outputs": [],
   "source": []
  },
  {
   "cell_type": "markdown",
   "metadata": {},
   "source": [
    "### Question 4 (3 pts)\n",
    "Implement a function **deterministic(fsm)** to determine whether the FSM currently in memory is deterministic. This query should fail for our first FSM and succeed for the second:"
   ]
  },
  {
   "cell_type": "code",
   "execution_count": null,
   "metadata": {},
   "outputs": [],
   "source": [
    "def deterministic(fsm):\n",
    "    return False\n",
    "print(deterministic(fsm1)) # False\n",
    "print(deterministic(fsm2)) # True"
   ]
  },
  {
   "cell_type": "markdown",
   "metadata": {},
   "source": [
    "### Question 5 (2 pts)\n",
    "Now create a new FSM object, called **fsm3** and write up a specification of an FSM that defines the present tense inflectional paradigm of the English verb \"do\".\n",
    "\n",
    "If you have done this right, only the first three strings should be considered correct by **accept(fsm3, string)**:"
   ]
  },
  {
   "cell_type": "code",
   "execution_count": null,
   "metadata": {},
   "outputs": [],
   "source": [
    "fsm3 = FSM()\n",
    "print(accept(fsm3, \"do\")) # True\n",
    "print(accept(fsm3, \"does\")) # True\n",
    "print(accept(fsm3, \"doing\")) # True\n",
    "print(accept(fsm3, \"dos\")) # False"
   ]
  },
  {
   "cell_type": "markdown",
   "metadata": {},
   "source": [
    "Is your FSM deterministic or nondeterministic?\n",
    "<h4>Answers:</h4>"
   ]
  },
  {
   "cell_type": "code",
   "execution_count": null,
   "metadata": {
    "collapsed": true
   },
   "outputs": [],
   "source": []
  }
 ],
 "metadata": {
  "anaconda-cloud": {},
  "kernelspec": {
   "display_name": "Python 3",
   "language": "python",
   "name": "python3"
  },
  "language_info": {
   "codemirror_mode": {
    "name": "ipython",
    "version": 3
   },
   "file_extension": ".py",
   "mimetype": "text/x-python",
   "name": "python",
   "nbconvert_exporter": "python",
   "pygments_lexer": "ipython3",
   "version": "3.8.2"
  }
 },
 "nbformat": 4,
 "nbformat_minor": 1
}
